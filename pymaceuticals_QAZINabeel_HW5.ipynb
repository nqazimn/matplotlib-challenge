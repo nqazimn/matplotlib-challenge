{
 "cells": [
  {
   "cell_type": "markdown",
   "metadata": {},
   "source": [
    "## Observations and Insights"
   ]
  },
  {
   "cell_type": "markdown",
   "metadata": {},
   "source": [
    "1. The SCC study contains equal proportion of male and female mice, meaning that the results of the study are not biased towards a specific gender.\n",
    "2. **Overall**, the mice treated with Capomulin (our drug) experience a decrease in tumor volume  over the course of the study.\n",
    "3. The linear regression results in $R^2 = 0.814$, suggesting that there is a strong positive correlation between the weight of a mouse and the mean tumor volume (over the study period of $45$ days investigated)."
   ]
  },
  {
   "cell_type": "markdown",
   "metadata": {},
   "source": [
    "## Dependencies and starter code"
   ]
  },
  {
   "cell_type": "code",
   "execution_count": 4,
   "metadata": {},
   "outputs": [
    {
     "name": "stdout",
     "output_type": "stream",
     "text": [
      "Total mice in merged dataset: 250\n",
      "\n",
      "\n",
      "['Mouse ID', 'Drug Regimen', 'Sex', 'Age_months', 'Weight (g)', 'Timepoint', 'Tumor Volume (mm3)', 'Metastatic Sites']\n",
      "\n",
      "\n"
     ]
    },
    {
     "data": {
      "text/html": [
       "<div>\n",
       "<style scoped>\n",
       "    .dataframe tbody tr th:only-of-type {\n",
       "        vertical-align: middle;\n",
       "    }\n",
       "\n",
       "    .dataframe tbody tr th {\n",
       "        vertical-align: top;\n",
       "    }\n",
       "\n",
       "    .dataframe thead th {\n",
       "        text-align: right;\n",
       "    }\n",
       "</style>\n",
       "<table border=\"1\" class=\"dataframe\">\n",
       "  <thead>\n",
       "    <tr style=\"text-align: right;\">\n",
       "      <th></th>\n",
       "      <th>Mouse ID</th>\n",
       "      <th>Drug Regimen</th>\n",
       "      <th>Sex</th>\n",
       "      <th>Age_months</th>\n",
       "      <th>Weight (g)</th>\n",
       "      <th>Timepoint</th>\n",
       "      <th>Tumor Volume (mm3)</th>\n",
       "      <th>Metastatic Sites</th>\n",
       "    </tr>\n",
       "  </thead>\n",
       "  <tbody>\n",
       "    <tr>\n",
       "      <th>0</th>\n",
       "      <td>k403</td>\n",
       "      <td>Ramicane</td>\n",
       "      <td>Male</td>\n",
       "      <td>21</td>\n",
       "      <td>16</td>\n",
       "      <td>0</td>\n",
       "      <td>45.000000</td>\n",
       "      <td>0</td>\n",
       "    </tr>\n",
       "    <tr>\n",
       "      <th>1</th>\n",
       "      <td>k403</td>\n",
       "      <td>Ramicane</td>\n",
       "      <td>Male</td>\n",
       "      <td>21</td>\n",
       "      <td>16</td>\n",
       "      <td>5</td>\n",
       "      <td>38.825898</td>\n",
       "      <td>0</td>\n",
       "    </tr>\n",
       "    <tr>\n",
       "      <th>2</th>\n",
       "      <td>k403</td>\n",
       "      <td>Ramicane</td>\n",
       "      <td>Male</td>\n",
       "      <td>21</td>\n",
       "      <td>16</td>\n",
       "      <td>10</td>\n",
       "      <td>35.014271</td>\n",
       "      <td>1</td>\n",
       "    </tr>\n",
       "    <tr>\n",
       "      <th>3</th>\n",
       "      <td>k403</td>\n",
       "      <td>Ramicane</td>\n",
       "      <td>Male</td>\n",
       "      <td>21</td>\n",
       "      <td>16</td>\n",
       "      <td>15</td>\n",
       "      <td>34.223992</td>\n",
       "      <td>1</td>\n",
       "    </tr>\n",
       "    <tr>\n",
       "      <th>4</th>\n",
       "      <td>k403</td>\n",
       "      <td>Ramicane</td>\n",
       "      <td>Male</td>\n",
       "      <td>21</td>\n",
       "      <td>16</td>\n",
       "      <td>20</td>\n",
       "      <td>32.997729</td>\n",
       "      <td>1</td>\n",
       "    </tr>\n",
       "  </tbody>\n",
       "</table>\n",
       "</div>"
      ],
      "text/plain": [
       "  Mouse ID Drug Regimen   Sex  Age_months  Weight (g)  Timepoint  \\\n",
       "0     k403     Ramicane  Male          21          16          0   \n",
       "1     k403     Ramicane  Male          21          16          5   \n",
       "2     k403     Ramicane  Male          21          16         10   \n",
       "3     k403     Ramicane  Male          21          16         15   \n",
       "4     k403     Ramicane  Male          21          16         20   \n",
       "\n",
       "   Tumor Volume (mm3)  Metastatic Sites  \n",
       "0           45.000000                 0  \n",
       "1           38.825898                 0  \n",
       "2           35.014271                 1  \n",
       "3           34.223992                 1  \n",
       "4           32.997729                 1  "
      ]
     },
     "execution_count": 4,
     "metadata": {},
     "output_type": "execute_result"
    }
   ],
   "source": [
    "# Dependencies and Setup\n",
    "import matplotlib.pyplot as plt\n",
    "import pandas as pd\n",
    "import scipy.stats as st\n",
    "import numpy as np\n",
    "import random\n",
    "\n",
    "# Adding options to display all of the rows of DataFrame w/o truncation\n",
    "pd.set_option('display.max_rows',None)\n",
    "pd.set_option('display.max_columns',None)\n",
    "\n",
    "# Study data files\n",
    "mouse_metadata = 'data/Mouse_metadata.csv'\n",
    "study_results = 'data/Study_results.csv'\n",
    "\n",
    "# Read the mouse data and the study results\n",
    "mouse_metadata = pd.read_csv(mouse_metadata)\n",
    "study_results = pd.read_csv(study_results)\n",
    "\n",
    "\n",
    "# Combine the data into a single dataset scc_df\n",
    "# scc = Squamous cell carcinoma (SCC)\n",
    "scc_df = pd.merge(mouse_metadata, study_results, how='outer', on='Mouse ID');\n",
    "\n",
    "# sort scc_df by timepoint\n",
    "# scc_df = scc_df.sort_values('Timepoint')\n",
    "\n",
    "# Checking if all 250 mice are collected in the dataset\n",
    "print(f\"Total mice in merged dataset: {len(scc_df['Mouse ID'].unique())+1}\")\n",
    "print('\\n')\n",
    "print(list(scc_df.columns))\n",
    "print('\\n')\n",
    "scc_df.head()"
   ]
  },
  {
   "cell_type": "markdown",
   "metadata": {},
   "source": [
    "## Summary statistics"
   ]
  },
  {
   "cell_type": "code",
   "execution_count": 5,
   "metadata": {},
   "outputs": [
    {
     "data": {
      "text/html": [
       "<div>\n",
       "<style scoped>\n",
       "    .dataframe tbody tr th:only-of-type {\n",
       "        vertical-align: middle;\n",
       "    }\n",
       "\n",
       "    .dataframe tbody tr th {\n",
       "        vertical-align: top;\n",
       "    }\n",
       "\n",
       "    .dataframe thead th {\n",
       "        text-align: right;\n",
       "    }\n",
       "</style>\n",
       "<table border=\"1\" class=\"dataframe\">\n",
       "  <thead>\n",
       "    <tr style=\"text-align: right;\">\n",
       "      <th></th>\n",
       "      <th>Mean</th>\n",
       "      <th>Median</th>\n",
       "      <th>Variance</th>\n",
       "      <th>Standard Error of Mean</th>\n",
       "    </tr>\n",
       "    <tr>\n",
       "      <th>Drug Regimen</th>\n",
       "      <th></th>\n",
       "      <th></th>\n",
       "      <th></th>\n",
       "      <th></th>\n",
       "    </tr>\n",
       "  </thead>\n",
       "  <tbody>\n",
       "    <tr>\n",
       "      <th>Capomulin</th>\n",
       "      <td>40.68</td>\n",
       "      <td>41.56</td>\n",
       "      <td>4.99</td>\n",
       "      <td>0.33</td>\n",
       "    </tr>\n",
       "    <tr>\n",
       "      <th>Ceftamin</th>\n",
       "      <td>52.59</td>\n",
       "      <td>51.78</td>\n",
       "      <td>6.27</td>\n",
       "      <td>0.47</td>\n",
       "    </tr>\n",
       "    <tr>\n",
       "      <th>Infubinol</th>\n",
       "      <td>52.88</td>\n",
       "      <td>51.82</td>\n",
       "      <td>6.57</td>\n",
       "      <td>0.49</td>\n",
       "    </tr>\n",
       "    <tr>\n",
       "      <th>Ketapril</th>\n",
       "      <td>55.24</td>\n",
       "      <td>53.70</td>\n",
       "      <td>8.28</td>\n",
       "      <td>0.60</td>\n",
       "    </tr>\n",
       "    <tr>\n",
       "      <th>Naftisol</th>\n",
       "      <td>54.33</td>\n",
       "      <td>52.51</td>\n",
       "      <td>8.13</td>\n",
       "      <td>0.60</td>\n",
       "    </tr>\n",
       "    <tr>\n",
       "      <th>Placebo</th>\n",
       "      <td>54.03</td>\n",
       "      <td>52.29</td>\n",
       "      <td>7.82</td>\n",
       "      <td>0.58</td>\n",
       "    </tr>\n",
       "    <tr>\n",
       "      <th>Propriva</th>\n",
       "      <td>52.32</td>\n",
       "      <td>50.85</td>\n",
       "      <td>6.51</td>\n",
       "      <td>0.51</td>\n",
       "    </tr>\n",
       "    <tr>\n",
       "      <th>Ramicane</th>\n",
       "      <td>40.22</td>\n",
       "      <td>40.67</td>\n",
       "      <td>4.85</td>\n",
       "      <td>0.32</td>\n",
       "    </tr>\n",
       "    <tr>\n",
       "      <th>Stelasyn</th>\n",
       "      <td>54.23</td>\n",
       "      <td>52.43</td>\n",
       "      <td>7.71</td>\n",
       "      <td>0.57</td>\n",
       "    </tr>\n",
       "    <tr>\n",
       "      <th>Zoniferol</th>\n",
       "      <td>53.24</td>\n",
       "      <td>51.82</td>\n",
       "      <td>6.97</td>\n",
       "      <td>0.52</td>\n",
       "    </tr>\n",
       "  </tbody>\n",
       "</table>\n",
       "</div>"
      ],
      "text/plain": [
       "               Mean  Median  Variance  Standard Error of Mean\n",
       "Drug Regimen                                                 \n",
       "Capomulin     40.68   41.56      4.99                    0.33\n",
       "Ceftamin      52.59   51.78      6.27                    0.47\n",
       "Infubinol     52.88   51.82      6.57                    0.49\n",
       "Ketapril      55.24   53.70      8.28                    0.60\n",
       "Naftisol      54.33   52.51      8.13                    0.60\n",
       "Placebo       54.03   52.29      7.82                    0.58\n",
       "Propriva      52.32   50.85      6.51                    0.51\n",
       "Ramicane      40.22   40.67      4.85                    0.32\n",
       "Stelasyn      54.23   52.43      7.71                    0.57\n",
       "Zoniferol     53.24   51.82      6.97                    0.52"
      ]
     },
     "execution_count": 5,
     "metadata": {},
     "output_type": "execute_result"
    }
   ],
   "source": [
    "# Generate a summary statistics table of mean, median, variance, standard deviation, and SEM of the tumor volume for each regimen\n",
    "mean_of_tumor_volume = scc_df.groupby(['Drug Regimen'])['Tumor Volume (mm3)'].mean()\n",
    "median_of_tumor_volume = scc_df.groupby(['Drug Regimen'])['Tumor Volume (mm3)'].median()\n",
    "variance_of_tumor_volume = scc_df.groupby(['Drug Regimen'])['Tumor Volume (mm3)'].std()\n",
    "sem_of_tumor_volume = scc_df.groupby(['Drug Regimen'])['Tumor Volume (mm3)'].sem()\n",
    "\n",
    "summary_df = pd.DataFrame({'Mean':mean_of_tumor_volume,\\\n",
    "             'Median':median_of_tumor_volume,\\\n",
    "              'Variance':variance_of_tumor_volume,\\\n",
    "              'Standard Error of Mean':sem_of_tumor_volume})\n",
    "\n",
    "summary_df.round(2)"
   ]
  },
  {
   "cell_type": "markdown",
   "metadata": {},
   "source": [
    "## Bar plots"
   ]
  },
  {
   "cell_type": "code",
   "execution_count": 125,
   "metadata": {},
   "outputs": [],
   "source": [
    "def prettify_barh(plot_handle):\n",
    "    '''\n",
    "    Fuction to improve visualization for horizontal bar plots\n",
    "    highlights our drug (Capomulin) and corresponding bars and tick labels\n",
    "    modifies default black color of plots to softer gray tones to let the data take center stage \n",
    "    '''\n",
    "    plot_handle.spines['right'].set_visible(False)\n",
    "    plot_handle.spines['top'].set_visible(False)\n",
    "    plot_handle.spines['bottom'].set_color('gray')\n",
    "    plot_handle.spines['left'].set_color('gray')\n",
    "\n",
    "    plot_handle.xaxis.label.set_color('gray')\n",
    "    plot_handle.tick_params(axis='x', colors='gray')\n",
    "\n",
    "    plot_handle.yaxis.label.set_color('gray')\n",
    "    plot_handle.tick_params(axis='y', length = 0)\n",
    "    t = plot_handle.get_yticklabels()\n",
    "    for _ in t:\n",
    "        _.set_color('gray')\n",
    "    t[0].set_color('indianred') "
   ]
  },
  {
   "cell_type": "code",
   "execution_count": 126,
   "metadata": {},
   "outputs": [
    {
     "data": {
      "image/png": "[encoded data removed]",
      "text/plain": [
       "<Figure size 432x288 with 1 Axes>"
      ]
     },
     "metadata": {},
     "output_type": "display_data"
    }
   ],
   "source": [
    "# Genverate a bar plot showing number of data points for each treatment regimen using pandas\n",
    "scc_datapoints = scc_df.groupby('Drug Regimen')['Mouse ID'].count()\n",
    "\n",
    "color_of_bars = ['lightgray' for _ in range(0,len(scc_datapoints))]\n",
    "color_of_bars[0] = 'indianred'\n",
    "\n",
    "scc_datapoints_chart = scc_datapoints.plot(kind='barh', color = color_of_bars)\n",
    "scc_datapoints_chart.invert_yaxis()\n",
    "scc_datapoints_chart.set_xlim([0,250]);\n",
    "scc_datapoints_chart.set_xlabel('Number of Data Points');\n",
    "scc_datapoints_chart.set_title('Number of data points per drug regimen in SCC study', color = 'gray');\n",
    "\n",
    "prettify_barh(scc_datapoints_chart)  "
   ]
  },
  {
   "cell_type": "code",
   "execution_count": 127,
   "metadata": {},
   "outputs": [
    {
     "data": {
      "image/png": "[encoded data removed]",
      "text/plain": [
       "<Figure size 432x288 with 1 Axes>"
      ]
     },
     "metadata": {},
     "output_type": "display_data"
    }
   ],
   "source": [
    "# Generate a bar plot showing number of data points for each treatment regimen using pyplot\n",
    "y_axis_ticks_placeholders = [_ for _ in summary_df.reset_index()['Drug Regimen']]\n",
    "fig1, ax1 = plt.subplots()\n",
    "ax1.set_title('Number of data points per drug regimen in SCC study', color = 'gray');\n",
    "ax1.set_xlabel('Number of Data Points');\n",
    "ax1.set_ylabel('Drug Regimen');\n",
    "ax1.set_xlim([0,250])\n",
    "\n",
    "ax1.invert_yaxis();\n",
    "\n",
    "ax1.barh(y_axis_ticks_placeholders, scc_datapoints, height = 0.5, color = color_of_bars);\n",
    "\n",
    "prettify_barh(ax1)"
   ]
  },
  {
   "cell_type": "markdown",
   "metadata": {},
   "source": [
    "## Pie plots"
   ]
  },
  {
   "cell_type": "code",
   "execution_count": 8,
   "metadata": {},
   "outputs": [
    {
     "data": {
      "image/png": "[encoded data removed]",
      "text/plain": [
       "<Figure size 432x288 with 1 Axes>"
      ]
     },
     "metadata": {},
     "output_type": "display_data"
    }
   ],
   "source": [
    "# Generate a pie plot showing the distribution of female versus male mice using pandas\n",
    "gender_distribution = scc_df.groupby(['Mouse ID']).first()\n",
    "gender_distribution = gender_distribution['Sex'].value_counts()\n",
    "\n",
    "gender_distribution_chart = gender_distribution.plot(kind = 'pie', autopct='%1.1f%%',startangle=90);\n",
    "gender_distribution_chart.set_ylabel('');\n",
    "gender_distribution_chart.set_title('Distrubution of gender of mice in SCC study');"
   ]
  },
  {
   "cell_type": "code",
   "execution_count": 9,
   "metadata": {},
   "outputs": [
    {
     "data": {
      "image/png": "[encoded data removed]",
      "text/plain": [
       "<Figure size 432x288 with 1 Axes>"
      ]
     },
     "metadata": {},
     "output_type": "display_data"
    }
   ],
   "source": [
    "# Generate a pie plot showing the distribution of female versus male mice using pyplot\n",
    "fig1, ax1 = plt.subplots()\n",
    "# ax1.set_xlabel('Number of Data Points');\n",
    "ax1.set_title('Distrubution of gender of mice in SCC study');\n",
    "ax1.pie(gender_distribution, autopct='%1.1f%%',startangle=90, labels = ['Male','Female']);"
   ]
  },
  {
   "cell_type": "markdown",
   "metadata": {},
   "source": [
    "## Quartiles, outliers and boxplots"
   ]
  },
  {
   "cell_type": "code",
   "execution_count": 10,
   "metadata": {},
   "outputs": [
    {
     "data": {
      "text/html": [
       "<div>\n",
       "<style scoped>\n",
       "    .dataframe tbody tr th:only-of-type {\n",
       "        vertical-align: middle;\n",
       "    }\n",
       "\n",
       "    .dataframe tbody tr th {\n",
       "        vertical-align: top;\n",
       "    }\n",
       "\n",
       "    .dataframe thead th {\n",
       "        text-align: right;\n",
       "    }\n",
       "</style>\n",
       "<table border=\"1\" class=\"dataframe\">\n",
       "  <thead>\n",
       "    <tr style=\"text-align: right;\">\n",
       "      <th></th>\n",
       "      <th>Capomulin</th>\n",
       "      <th>Ceftamin</th>\n",
       "      <th>Infubinol</th>\n",
       "      <th>Ramicane</th>\n",
       "    </tr>\n",
       "  </thead>\n",
       "  <tbody>\n",
       "    <tr>\n",
       "      <th>Lower Quartile</th>\n",
       "      <td>32.38</td>\n",
       "      <td>48.72</td>\n",
       "      <td>54.05</td>\n",
       "      <td>31.56</td>\n",
       "    </tr>\n",
       "    <tr>\n",
       "      <th>Median</th>\n",
       "      <td>38.13</td>\n",
       "      <td>59.85</td>\n",
       "      <td>60.17</td>\n",
       "      <td>36.56</td>\n",
       "    </tr>\n",
       "    <tr>\n",
       "      <th>Upper Quartile</th>\n",
       "      <td>40.16</td>\n",
       "      <td>64.30</td>\n",
       "      <td>65.53</td>\n",
       "      <td>40.66</td>\n",
       "    </tr>\n",
       "    <tr>\n",
       "      <th>Inter-Quartile Range</th>\n",
       "      <td>7.78</td>\n",
       "      <td>15.58</td>\n",
       "      <td>11.48</td>\n",
       "      <td>9.10</td>\n",
       "    </tr>\n",
       "    <tr>\n",
       "      <th>Lower Bound</th>\n",
       "      <td>20.70</td>\n",
       "      <td>25.36</td>\n",
       "      <td>36.83</td>\n",
       "      <td>17.91</td>\n",
       "    </tr>\n",
       "    <tr>\n",
       "      <th>Minimum</th>\n",
       "      <td>23.34</td>\n",
       "      <td>45.00</td>\n",
       "      <td>36.32</td>\n",
       "      <td>22.05</td>\n",
       "    </tr>\n",
       "    <tr>\n",
       "      <th>Upper Bound</th>\n",
       "      <td>51.83</td>\n",
       "      <td>87.67</td>\n",
       "      <td>82.74</td>\n",
       "      <td>54.31</td>\n",
       "    </tr>\n",
       "    <tr>\n",
       "      <th>Maximum</th>\n",
       "      <td>47.69</td>\n",
       "      <td>68.92</td>\n",
       "      <td>72.23</td>\n",
       "      <td>45.22</td>\n",
       "    </tr>\n",
       "  </tbody>\n",
       "</table>\n",
       "</div>"
      ],
      "text/plain": [
       "                      Capomulin  Ceftamin  Infubinol  Ramicane\n",
       "Lower Quartile            32.38     48.72      54.05     31.56\n",
       "Median                    38.13     59.85      60.17     36.56\n",
       "Upper Quartile            40.16     64.30      65.53     40.66\n",
       "Inter-Quartile Range       7.78     15.58      11.48      9.10\n",
       "Lower Bound               20.70     25.36      36.83     17.91\n",
       "Minimum                   23.34     45.00      36.32     22.05\n",
       "Upper Bound               51.83     87.67      82.74     54.31\n",
       "Maximum                   47.69     68.92      72.23     45.22"
      ]
     },
     "execution_count": 10,
     "metadata": {},
     "output_type": "execute_result"
    }
   ],
   "source": [
    "# Calculate the final tumor volume of each mouse across four of the most promising treatment regimens. Calculate the IQR and quantitatively determine if there are any potential outliers. \n",
    "# Four most promising treatment regimens: Capomulin (Our drug), Ramicane, Infubinol, Ceftamin\n",
    "\n",
    "# setup dicts\n",
    "dict_of_promising_drugs = {'Capomulin':'',\\\n",
    "                'Ceftamin':'',\\\n",
    "                'Infubinol':'',\\\n",
    "                'Ramicane':''}\n",
    "dict_of_final_tumor_volumes = {'Capomulin':'',\\\n",
    "                'Ceftamin':'',\\\n",
    "                'Infubinol':'',\\\n",
    "                'Ramicane':''}\n",
    "dict_of_quartiles = {'Capomulin':'',\\\n",
    "                'Ceftamin':'',\\\n",
    "                'Infubinol':'',\\\n",
    "                'Ramicane':''}\n",
    "\n",
    "# Sort the dataframe by Mouse ID and Timepoint\n",
    "sorted_scc_df = scc_df.sort_values(['Mouse ID','Timepoint'], ascending = True)\n",
    "\n",
    "# Update data dict for the 4 promising drugs\n",
    "for a_drug in dict_of_promising_drugs.keys():\n",
    "    dict_of_promising_drugs.update({a_drug : sorted_scc_df[(sorted_scc_df['Drug Regimen'] == a_drug)]})\n",
    "    \n",
    "\n",
    "# Using .last() after grouping by Mouse ID will give the last entry for that ID.\n",
    "# Grabbing Timepoint for this will give the final treatement timepoint for that mouse\n",
    "# which is the Final Tumor Volume. Only picking: MouseID, Timepoint & Tumor Volume\n",
    "\n",
    "for a_drug in dict_of_promising_drugs.keys():\n",
    "    final_tumor_volume_group = dict_of_promising_drugs[a_drug].groupby(['Mouse ID']).last()\n",
    "    dict_of_final_tumor_volumes.update({a_drug : final_tumor_volume_group.reset_index()[['Mouse ID','Timepoint','Tumor Volume (mm3)']]})\n",
    "\n",
    "# Calculate Quartiles of final tumor volume for each Drug Regimen\n",
    "for a_drug in dict_of_quartiles:\n",
    "    minimum = dict_of_final_tumor_volumes[a_drug]['Tumor Volume (mm3)'].min()\n",
    "    quartiles = dict_of_final_tumor_volumes[a_drug]['Tumor Volume (mm3)'].quantile([0.25, 0.5, 0.75])\n",
    "    lowerq = quartiles[0.25]\n",
    "    middleq = quartiles[0.5]\n",
    "    upperq = quartiles[0.75]\n",
    "    maximum = dict_of_final_tumor_volumes[a_drug]['Tumor Volume (mm3)'].max()\n",
    "    iqr = upperq - lowerq    \n",
    "    lower_bound = lowerq - (1.5*iqr)\n",
    "    upper_bound = upperq + (1.5*iqr)\n",
    "    dict_of_quartiles.update({a_drug:[lowerq, middleq, upperq, iqr, lower_bound, minimum, upper_bound, maximum]})\n",
    "\n",
    "# Collect results in a dataframe and show a table for readibility\n",
    "quartiles_df = pd.DataFrame(dict_of_quartiles)\n",
    "index_labels = ['Lower Quartile','Median','Upper Quartile', 'Inter-Quartile Range','Lower Bound','Minimum', 'Upper Bound', 'Maximum']\n",
    "quartiles_df.set_index([index_labels]).round(2)"
   ]
  },
  {
   "cell_type": "markdown",
   "metadata": {},
   "source": [
    "### Judging from above table of data summary of all four regimens of interest, 'Infubinol' may have outliers close to the lower bound."
   ]
  },
  {
   "cell_type": "code",
   "execution_count": 11,
   "metadata": {},
   "outputs": [
    {
     "data": {
      "image/png": "[encoded data removed]",
      "text/plain": [
       "<Figure size 432x288 with 1 Axes>"
      ]
     },
     "metadata": {
      "needs_background": "light"
     },
     "output_type": "display_data"
    }
   ],
   "source": [
    "# Generate a box plot of the final tumor volume of each mouse across four regimens of interest\n",
    "# test = [a_drug for a_drug in dict_of_final_tumor_volumes[a_drug]['Tumor Volume (mm3)']]\n",
    "# box_idx = 1\n",
    "list_of_data = []\n",
    "box_labels = []\n",
    "red_circle = dict(markerfacecolor='r', marker='o', markeredgecolor = 'r')\n",
    "\n",
    "for a_drug in dict_of_final_tumor_volumes:\n",
    "    list_of_data.append(dict_of_final_tumor_volumes[a_drug]['Tumor Volume (mm3)'])\n",
    "    box_labels.append(a_drug)\n",
    "\n",
    "fig, ax1 = plt.subplots()\n",
    "ax1.set_title('Box plot of final tumor volumes in SCC study')\n",
    "ax1.set_ylabel('Drug Regimen')\n",
    "ax1.set_xlabel('Final Tumor Volume (mm^3)')\n",
    "plt.boxplot(list_of_data, vert = False, positions = [4,3,2,1], labels = box_labels, flierprops=red_circle);\n",
    "plt.xlim([0,80]);\n",
    "# list_of_data"
   ]
  },
  {
   "cell_type": "markdown",
   "metadata": {},
   "source": [
    "## Line and scatter plots"
   ]
  },
  {
   "cell_type": "code",
   "execution_count": 16,
   "metadata": {},
   "outputs": [
    {
     "data": {
      "image/png": "[encoded data removed]",
      "text/plain": [
       "<Figure size 432x288 with 1 Axes>"
      ]
     },
     "metadata": {
      "needs_background": "light"
     },
     "output_type": "display_data"
    }
   ],
   "source": [
    "# Generate a line plot of time point versus tumor volume for a mouse treated with Capomulin\n",
    "\n",
    "our_drug_group = dict_of_promising_drugs['Capomulin'].groupby('Mouse ID')\n",
    "\n",
    "# Pick a mouse at random from our_drug_group\n",
    "a_mouse = (random.choice(list(our_drug_group.groups)))\n",
    "\n",
    "plt.plot(our_drug_group.get_group(a_mouse)['Timepoint'],\\\n",
    "         our_drug_group.get_group(a_mouse)['Tumor Volume (mm3)'],\\\n",
    "        marker = 'o')\n",
    "plt.ylim([0,max(our_drug_group.get_group(a_mouse)['Tumor Volume (mm3)'])*1.05])\n",
    "plt.xlim([-5,50])\n",
    "plt.title(f'Timeline of Tumor Volume for mouse:\"{a_mouse}\" treated with Capomulin');\n",
    "plt.ylabel('Tumor Volume (mm^3)');\n",
    "plt.xlabel('Timepoint (days)');"
   ]
  },
  {
   "cell_type": "code",
   "execution_count": 13,
   "metadata": {},
   "outputs": [
    {
     "data": {
      "text/plain": [
       "Text(0.5, 1.0, 'Scatter plot of Mouse weight vs. Average Tumor Volume (mm^3)')"
      ]
     },
     "execution_count": 13,
     "metadata": {},
     "output_type": "execute_result"
    },
    {
     "data": {
      "image/png": "[encoded data removed]",
      "text/plain": [
       "<Figure size 432x288 with 1 Axes>"
      ]
     },
     "metadata": {
      "needs_background": "light"
     },
     "output_type": "display_data"
    }
   ],
   "source": [
    "# Generate a scatter plot of mouse weight versus average tumor volume for the Capomulin regimen\n",
    "plt.scatter(our_drug_group['Weight (g)'].first(), \\\n",
    "            our_drug_group['Tumor Volume (mm3)'].mean(),\\\n",
    "           alpha = 0.5)\n",
    "plt.xlim([0,30])\n",
    "plt.ylim([0,50])\n",
    "plt.xlabel('Weight (g)')\n",
    "plt.ylabel('Average Tumor Volume (mm^3)');\n",
    "plt.title('Scatter plot of Mouse weight vs. Average Tumor Volume (mm^3)')"
   ]
  },
  {
   "cell_type": "code",
   "execution_count": 14,
   "metadata": {},
   "outputs": [],
   "source": [
    "# Calculate the correlation coefficient and linear regression model for mouse weight and average tumor volume for the Capomulin regimen"
   ]
  },
  {
   "cell_type": "code",
   "execution_count": 15,
   "metadata": {},
   "outputs": [
    {
     "data": {
      "image/png": "[encoded data removed]",
      "text/plain": [
       "<Figure size 432x288 with 1 Axes>"
      ]
     },
     "metadata": {
      "needs_background": "light"
     },
     "output_type": "display_data"
    },
    {
     "name": "stdout",
     "output_type": "stream",
     "text": [
      "Value of R^2 = 0.709\n"
     ]
    }
   ],
   "source": [
    "x_values = our_drug_group['Weight (g)'].first()\n",
    "y_values = our_drug_group['Tumor Volume (mm3)'].mean()\n",
    "\n",
    "(slope, intercept, rvalue, pvalue, stderr) = st.linregress(x_values, y_values)\n",
    "regress_values = x_values * slope + intercept\n",
    "line_eq = \"y = \" + str(round(slope,2)) + \"x + \" + str(round(intercept,2))\n",
    "\n",
    "plt.scatter(x_values, y_values, alpha = 0.5)\n",
    "plt.plot(x_values,regress_values,color = 'firebrick')\n",
    "plt.annotate(line_eq,(18,37),fontsize=16,color=\"firebrick\")\n",
    "# plt.xlabel('Rooms in House')\n",
    "# plt.ylabel('Median House Prices ($1000)')\n",
    "# plt.xlim([0,30])\n",
    "# plt.ylim([0,50])\n",
    "plt.xlabel('Weight (g)')\n",
    "plt.ylabel('Average Tumor Volume (mm^3)');\n",
    "plt.title('Linear regression analysis of Mouse weight vs. Average Tumor Volume (mm^3)')\n",
    "plt.show()\n",
    "\n",
    "print(f'Value of R^2 = {round(rvalue*rvalue,3)}')\n"
   ]
  },
  {
   "cell_type": "code",
   "execution_count": null,
   "metadata": {},
   "outputs": [],
   "source": []
  }
 ],
 "metadata": {
  "anaconda-cloud": {},
  "kernelspec": {
   "display_name": "Python 3",
   "language": "python",
   "name": "python3"
  },
  "language_info": {
   "codemirror_mode": {
    "name": "ipython",
    "version": 3
   },
   "file_extension": ".py",
   "mimetype": "text/x-python",
   "name": "python",
   "nbconvert_exporter": "python",
   "pygments_lexer": "ipython3",
   "version": "3.7.3"
  }
 },
 "nbformat": 4,
 "nbformat_minor": 4
}
